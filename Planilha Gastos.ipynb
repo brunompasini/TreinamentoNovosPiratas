{
 "cells": [
  {
   "cell_type": "code",
   "execution_count": 20,
   "metadata": {},
   "outputs": [
    {
     "name": "stdout",
     "output_type": "stream",
     "text": [
      "Pressione enter para continuar\n",
      "Guia de categoria dos gastos:\n",
      "a: Salgados/cafe minerva;\n",
      "b: Almocos na poli;\n",
      "c: Almocos/jantares em restaurantes;\n",
      "d: Farmacia/supermercados;\n",
      "e: Ubers e festas;\n",
      "f: Outros;\n",
      "s: para sair/finalizar;\n",
      "Insira a categoria: a\n",
      "Insira o gasto: 10\n",
      "Guia de categoria dos gastos:\n",
      "a: Salgados/cafe minerva;\n",
      "b: Almocos na poli;\n",
      "c: Almocos/jantares em restaurantes;\n",
      "d: Farmacia/supermercados;\n",
      "e: Ubers e festas;\n",
      "f: Outros;\n",
      "s: para sair/finalizar;\n",
      "Insira a categoria: s\n",
      "a: Salgados/cafe minerva:  10.0\n",
      "b: Almocos na poli:  0.0\n",
      "c: Almocos/jantares em restaurantes:  0.0\n",
      "d: Farmacia/supermercados:  0.0\n",
      "e: Ubers e festas:  0.0\n",
      "f: Outros:  0.0\n"
     ]
    }
   ],
   "source": [
    "# obj imprimir nome de gasto e custo intercalados entre duas matrizes\n",
    "# colocar categoria, preco\n",
    "# digitar s para sair\n",
    "\n",
    "#         0    1    2    3    4    5\n",
    "gastos= [0.0, 0.0, 0.0, 0.0, 0.0, 0.0]\n",
    "nomes = ['a','b','c','d','e','f']\n",
    "#         0   1   2   3   4   5\n",
    "\n",
    "def frdummies():\n",
    "    print(\n",
    "        \"Guia de categoria dos gastos:\\n\"\n",
    "        \"a: Salgados/cafe minerva;\\n\"\n",
    "        \"b: Almocos na poli;\\n\"\n",
    "        \"c: Almocos/jantares em restaurantes;\\n\"\n",
    "        \"d: Farmacia/supermercados;\\n\"\n",
    "        \"e: Ubers e festas;\\n\"\n",
    "        \"f: Outros;\\n\"\n",
    "        \"s: para sair/finalizar;\")\n",
    "\n",
    "def main():\n",
    "    ent0 = input('Pressione enter para continuar')\n",
    "    if ent0 == \"\":\n",
    "        while True:\n",
    "            frdummies()\n",
    "            entlet = input(\"Insira a categoria: \")\n",
    "            if entlet == 's':\n",
    "                break\n",
    "            else:\n",
    "                entpr = float(input(\"Insira o gasto: \"))\n",
    "                if entlet == nomes[0]:\n",
    "                    gastos[0] = gastos[0]+entpr\n",
    "                elif entlet == nomes[1]:\n",
    "                    gastos[1] = gastos[1]+entpr\n",
    "                elif entlet == nomes[2]:\n",
    "                    gastos[2] = gastos[2]+entpr\n",
    "                elif entlet == nomes[3]:\n",
    "                    gastos[3] = gastos[3]+entpr\n",
    "                elif entlet == nomes[4]:\n",
    "                    gastos[4] = gastos[4]+entpr\n",
    "                elif entlet == nomes[5]:\n",
    "                    gastos[5] = gastos[5]+entpr\n",
    "        print(\"a: Salgados/cafe minerva: \",gastos[0])\n",
    "        print(\"b: Almocos na poli: \", gastos[1])\n",
    "        print(\"c: Almocos/jantares em restaurantes: \", gastos[2])\n",
    "        print(\"d: Farmacia/supermercados: \", gastos[3])\n",
    "        print(\"e: Ubers e festas: \", gastos[4])\n",
    "        print(\"f: Outros: \", gastos[5])\n",
    "\n",
    "\n",
    "\n",
    "main()\n",
    "\n"
   ]
  },
  {
   "cell_type": "code",
   "execution_count": null,
   "metadata": {},
   "outputs": [],
   "source": []
  }
 ],
 "metadata": {
  "kernelspec": {
   "display_name": "Python 3",
   "language": "python",
   "name": "python3"
  },
  "language_info": {
   "codemirror_mode": {
    "name": "ipython",
    "version": 3
   },
   "file_extension": ".py",
   "mimetype": "text/x-python",
   "name": "python",
   "nbconvert_exporter": "python",
   "pygments_lexer": "ipython3",
   "version": "3.6.4"
  }
 },
 "nbformat": 4,
 "nbformat_minor": 2
}
